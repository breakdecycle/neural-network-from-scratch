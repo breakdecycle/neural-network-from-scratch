{
 "cells": [
  {
   "cell_type": "markdown",
   "metadata": {},
   "source": [
    "# Training a Simple Neural Network from scratch"
   ]
  },
  {
   "cell_type": "code",
   "execution_count": 42,
   "metadata": {},
   "outputs": [],
   "source": [
    "import numpy as np\n",
    "from matplotlib import pyplot as plt\n",
    "%matplotlib inline\n",
    "import seaborn as sns\n",
    "plt.rcParams['figure.figsize'] = [14, 5] #Setting plot figure size"
   ]
  },
  {
   "cell_type": "code",
   "execution_count": 68,
   "metadata": {},
   "outputs": [],
   "source": [
    "#Input array\n",
    "X=np.array([[1,0,1,0],[1,0,1,1],[0,1,0,1],[1,1,1,1]])\n",
    "# print(X)\n",
    "\n",
    "#Output\n",
    "y=np.array([[1],[1],[0],[0]])\n",
    "\n",
    "#Sigmoid Function\n",
    "def sigmoid (x):\n",
    "    return 1/(1 + np.exp(-x))\n",
    "\n",
    "#Derivative of Sigmoid Function\n",
    "def derivatives_sigmoid(x):\n",
    "    return x * (1 - x)\n",
    "\n",
    "#Variable initialization\n",
    "epoch=10000 #Setting training iterations\n",
    "lr=0.1 #Setting learning rate\n",
    "inputlayer_neurons = X.shape[1] #number of features in data set\n",
    "hiddenlayer_neurons = 4 #number of hidden layers neurons\n",
    "output_neurons = 1 #number of neurons at output layer\n",
    "\n",
    "def train(X=X, y=y, epoch=epoch, lr=lr):\n",
    "    #weight and bias initialization - using random numbers\n",
    "    wh=np.random.uniform(size=(inputlayer_neurons,hiddenlayer_neurons))\n",
    "    bh=np.random.uniform(size=(1,hiddenlayer_neurons))\n",
    "    wout=np.random.uniform(size=(hiddenlayer_neurons,output_neurons))\n",
    "    bout=np.random.uniform(size=(1,output_neurons))\n",
    "\n",
    "    for i in range(epoch):\n",
    "        #Forward Propogation\n",
    "        hidden_layer_input1=np.dot(X,wh)\n",
    "        hidden_layer_input=hidden_layer_input1 + bh\n",
    "        hiddenlayer_activations = sigmoid(hidden_layer_input)\n",
    "        output_layer_input1=np.dot(hiddenlayer_activations,wout)\n",
    "        output_layer_input= output_layer_input1+ bout\n",
    "        output = sigmoid(output_layer_input)\n",
    "\n",
    "        #Back Propagation\n",
    "        E = y-output\n",
    "        slope_output_layer = derivatives_sigmoid(output)\n",
    "        slope_hidden_layer = derivatives_sigmoid(hiddenlayer_activations)\n",
    "        d_output = E * slope_output_layer\n",
    "        Error_at_hidden_layer = d_output.dot(wout.T)\n",
    "        d_hiddenlayer = Error_at_hidden_layer * slope_hidden_layer\n",
    "        wout += hiddenlayer_activations.T.dot(d_output) *lr\n",
    "        bout += np.sum(d_output, axis=0,keepdims=True) *lr\n",
    "        wh += X.T.dot(d_hiddenlayer) *lr\n",
    "        bh += np.sum(d_hiddenlayer, axis=0,keepdims=True) *lr\n",
    "        \n",
    "    return wh, bh, np.linalg.norm(y-output)\n",
    "        \n",
    "#         return np.linalg.norm(y-output)\n",
    "\n",
    "#     if i == epoch-1:\n",
    "#         print('Weights: \\n', wh)\n",
    "#         print('\\nBiases: \\n', bh)\n",
    "\n",
    "# print('\\n\\n',np.linalg.norm(y-output))"
   ]
  },
  {
   "cell_type": "markdown",
   "metadata": {},
   "source": [
    "## Testing and comparing error with various learning rate"
   ]
  },
  {
   "cell_type": "code",
   "execution_count": 81,
   "metadata": {},
   "outputs": [],
   "source": [
    "xv = np.arange(0.5,25,1)\n",
    "yv = []\n",
    "for i in xv:\n",
    "    yv.append(train(X=X, y=y, epoch=epoch, lr=i)[2])"
   ]
  },
  {
   "cell_type": "code",
   "execution_count": 79,
   "metadata": {},
   "outputs": [
    {
     "data": {
      "text/plain": [
       "<matplotlib.axes._subplots.AxesSubplot at 0x202a86a4d30>"
      ]
     },
     "execution_count": 79,
     "metadata": {},
     "output_type": "execute_result"
    },
    {
     "data": {
      "image/png": "[encoded data removed]",
      "text/plain": [
       "<Figure size 1008x360 with 1 Axes>"
      ]
     },
     "metadata": {},
     "output_type": "display_data"
    }
   ],
   "source": [
    "sns.pointplot(x=xv, y=yv)"
   ]
  },
  {
   "cell_type": "code",
   "execution_count": 71,
   "metadata": {},
   "outputs": [],
   "source": [
    "weights, bias, error = train(X=X, y=y, epoch=epoch, lr=lr)"
   ]
  },
  {
   "cell_type": "code",
   "execution_count": 72,
   "metadata": {},
   "outputs": [
    {
     "name": "stdout",
     "output_type": "stream",
     "text": [
      "Weights: \n",
      "[[-0.80257273  0.81314571 -0.31988996  1.65405659]\n",
      " [ 2.34221028  0.08735546  1.33670432 -4.52349044]\n",
      " [-0.06573005  0.6320357  -0.56131083  1.23242037]\n",
      " [ 0.11476781  1.00307469  0.92135373 -0.9217325 ]]\n",
      "\n",
      "Biases: \n",
      "[[-0.3051733   0.0460941  -0.29785213  0.21552976]]\n",
      "\n",
      "Error: \n",
      "0.03897948146708632\n",
      "\n",
      "\n"
     ]
    }
   ],
   "source": [
    "print('Weights: \\n{}\\n\\nBiases: \\n{}\\n\\nError: \\n{}\\n\\n'.format(weights, bias, error))"
   ]
  },
  {
   "cell_type": "code",
   "execution_count": null,
   "metadata": {},
   "outputs": [],
   "source": []
  }
 ],
 "metadata": {
  "kernelspec": {
   "display_name": "Python 3",
   "language": "python",
   "name": "python3"
  },
  "language_info": {
   "codemirror_mode": {
    "name": "ipython",
    "version": 3
   },
   "file_extension": ".py",
   "mimetype": "text/x-python",
   "name": "python",
   "nbconvert_exporter": "python",
   "pygments_lexer": "ipython3",
   "version": "3.6.3"
  }
 },
 "nbformat": 4,
 "nbformat_minor": 2
}
